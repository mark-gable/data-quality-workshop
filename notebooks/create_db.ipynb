{
 "cells": [
  {
   "cell_type": "code",
   "execution_count": 21,
   "metadata": {},
   "outputs": [
    {
     "name": "stdout",
     "output_type": "stream",
     "text": [
      "\u001b[0m11:29:26  Running with dbt=1.6.6\n",
      "\u001b[0m11:29:26  Registered adapter: duckdb=1.6.1\n",
      "\u001b[0m11:29:26  Found 6 models, 0 sources, 0 exposures, 0 metrics, 351 macros, 0 groups, 0 semantic models\n",
      "\u001b[0m11:29:26  \n",
      "\u001b[0m11:29:26  Concurrency: 1 threads (target='dev')\n",
      "\u001b[0m11:29:26  \n",
      "\u001b[0m11:29:26  1 of 6 START sql table model main.customers .................................... [RUN]\n",
      "\u001b[0m11:29:26  1 of 6 OK created sql table model main.customers ............................... [\u001b[32mOK\u001b[0m in 0.05s]\n",
      "\u001b[0m11:29:26  2 of 6 START sql table model main.purchase_customer_mapping .................... [RUN]\n",
      "\u001b[0m11:29:26  2 of 6 OK created sql table model main.purchase_customer_mapping ............... [\u001b[32mOK\u001b[0m in 0.02s]\n",
      "\u001b[0m11:29:26  3 of 6 START sql table model main.purchases .................................... [RUN]\n",
      "\u001b[0m11:29:26  3 of 6 OK created sql table model main.purchases ............................... [\u001b[32mOK\u001b[0m in 0.03s]\n",
      "\u001b[0m11:29:26  4 of 6 START sql table model main.reviews ...................................... [RUN]\n",
      "\u001b[0m11:29:26  4 of 6 OK created sql table model main.reviews ................................. [\u001b[32mOK\u001b[0m in 0.02s]\n",
      "\u001b[0m11:29:26  5 of 6 START sql table model main.shopping_combined ............................ [RUN]\n",
      "\u001b[0m11:29:26  5 of 6 OK created sql table model main.shopping_combined ....................... [\u001b[32mOK\u001b[0m in 0.04s]\n",
      "\u001b[0m11:29:26  6 of 6 START sql table model main.upsell_customer_ranking ...................... [RUN]\n",
      "\u001b[0m11:29:26  6 of 6 OK created sql table model main.upsell_customer_ranking ................. [\u001b[32mOK\u001b[0m in 0.03s]\n",
      "\u001b[0m11:29:26  \n",
      "\u001b[0m11:29:26  Finished running 6 table models in 0 hours 0 minutes and 0.26 seconds (0.26s).\n",
      "\u001b[0m11:29:26  \n",
      "\u001b[0m11:29:26  \u001b[32mCompleted successfully\u001b[0m\n",
      "\u001b[0m11:29:26  \n",
      "\u001b[0m11:29:26  Done. PASS=6 WARN=0 ERROR=0 SKIP=0 TOTAL=6\n"
     ]
    },
    {
     "data": {
      "text/html": [
       "<div>\n",
       "<style scoped>\n",
       "    .dataframe tbody tr th:only-of-type {\n",
       "        vertical-align: middle;\n",
       "    }\n",
       "\n",
       "    .dataframe tbody tr th {\n",
       "        vertical-align: top;\n",
       "    }\n",
       "\n",
       "    .dataframe thead th {\n",
       "        text-align: right;\n",
       "    }\n",
       "</style>\n",
       "<table border=\"1\" class=\"dataframe\">\n",
       "  <thead>\n",
       "    <tr style=\"text-align: right;\">\n",
       "      <th></th>\n",
       "      <th>name</th>\n",
       "    </tr>\n",
       "  </thead>\n",
       "  <tbody>\n",
       "    <tr>\n",
       "      <th>0</th>\n",
       "      <td>customer_review_table</td>\n",
       "    </tr>\n",
       "    <tr>\n",
       "      <th>1</th>\n",
       "      <td>customer_table</td>\n",
       "    </tr>\n",
       "    <tr>\n",
       "      <th>2</th>\n",
       "      <td>customers</td>\n",
       "    </tr>\n",
       "    <tr>\n",
       "      <th>3</th>\n",
       "      <td>purchase_customer_mapping</td>\n",
       "    </tr>\n",
       "    <tr>\n",
       "      <th>4</th>\n",
       "      <td>purchase_customer_mapping_table</td>\n",
       "    </tr>\n",
       "    <tr>\n",
       "      <th>5</th>\n",
       "      <td>purchase_table</td>\n",
       "    </tr>\n",
       "    <tr>\n",
       "      <th>6</th>\n",
       "      <td>purchases</td>\n",
       "    </tr>\n",
       "    <tr>\n",
       "      <th>7</th>\n",
       "      <td>reviews</td>\n",
       "    </tr>\n",
       "    <tr>\n",
       "      <th>8</th>\n",
       "      <td>shopping_combined</td>\n",
       "    </tr>\n",
       "    <tr>\n",
       "      <th>9</th>\n",
       "      <td>upsell_customer_ranking</td>\n",
       "    </tr>\n",
       "  </tbody>\n",
       "</table>\n",
       "</div>"
      ],
      "text/plain": [
       "                              name\n",
       "0            customer_review_table\n",
       "1                   customer_table\n",
       "2                        customers\n",
       "3        purchase_customer_mapping\n",
       "4  purchase_customer_mapping_table\n",
       "5                   purchase_table\n",
       "6                        purchases\n",
       "7                          reviews\n",
       "8                shopping_combined\n",
       "9          upsell_customer_ranking"
      ]
     },
     "metadata": {},
     "output_type": "display_data"
    }
   ],
   "source": [
    "import duckdb\n",
    "\n",
    "table_names = ['purchase_table', 'customer_table', 'customer_review_table', 'purchase_customer_mapping_table']\n",
    "with duckdb.connect('../data/shopping.db') as con:\n",
    "    for name in table_names:\n",
    "        con.sql(f\"CREATE OR REPLACE TABLE {name} AS SELECT * FROM read_csv_auto('../data/{name}.csv', normalize_names=True)\")\n",
    "\n",
    "! cd ../dbt_shopping; dbt run\n",
    "\n",
    "with duckdb.connect('../data/shopping.db') as con:\n",
    "    display(con.sql('show tables').df())"
   ]
  },
  {
   "cell_type": "code",
   "execution_count": null,
   "metadata": {},
   "outputs": [],
   "source": []
  }
 ],
 "metadata": {
  "kernelspec": {
   "display_name": "Python 3",
   "language": "python",
   "name": "python3"
  },
  "language_info": {
   "codemirror_mode": {
    "name": "ipython",
    "version": 3
   },
   "file_extension": ".py",
   "mimetype": "text/x-python",
   "name": "python",
   "nbconvert_exporter": "python",
   "pygments_lexer": "ipython3",
   "version": "3.11.4"
  },
  "orig_nbformat": 4
 },
 "nbformat": 4,
 "nbformat_minor": 2
}
