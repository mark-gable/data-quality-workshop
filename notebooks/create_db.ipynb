{
 "cells": [
  {
   "cell_type": "code",
   "execution_count": 1,
   "metadata": {},
   "outputs": [
    {
     "name": "stdout",
     "output_type": "stream",
     "text": [
      "\u001b[0m08:43:53  Running with dbt=1.6.6\n",
      "\u001b[0m08:43:53  Registered adapter: duckdb=1.6.1\n",
      "\u001b[0m08:43:53  Unable to do partial parsing because saved manifest not found. Starting full parse.\n",
      "\u001b[0m08:43:54  [\u001b[33mWARNING\u001b[0m]: Configuration paths exist in your dbt_project.yml file which do not apply to any resources.\n",
      "There are 1 unused configuration paths:\n",
      "- models.dbt_shopping.c_metrics\n",
      "\u001b[0m08:43:54  Found 5 models, 0 sources, 0 exposures, 0 metrics, 351 macros, 0 groups, 0 semantic models\n",
      "\u001b[0m08:43:54  \n",
      "\u001b[0m08:43:54  Concurrency: 1 threads (target='dev')\n",
      "\u001b[0m08:43:54  \n",
      "\u001b[0m08:43:54  1 of 5 START sql table model main.customers .................................... [RUN]\n",
      "\u001b[0m08:43:54  1 of 5 OK created sql table model main.customers ............................... [\u001b[32mOK\u001b[0m in 0.20s]\n",
      "\u001b[0m08:43:54  2 of 5 START sql table model main.purchase_customer_mapping .................... [RUN]\n",
      "\u001b[0m08:43:55  2 of 5 OK created sql table model main.purchase_customer_mapping ............... [\u001b[32mOK\u001b[0m in 0.13s]\n",
      "\u001b[0m08:43:55  3 of 5 START sql table model main.purchases .................................... [RUN]\n",
      "\u001b[0m08:43:55  3 of 5 OK created sql table model main.purchases ............................... [\u001b[32mOK\u001b[0m in 0.14s]\n",
      "\u001b[0m08:43:55  4 of 5 START sql table model main.reviews ...................................... [RUN]\n",
      "\u001b[0m08:43:55  4 of 5 OK created sql table model main.reviews ................................. [\u001b[32mOK\u001b[0m in 0.12s]\n",
      "\u001b[0m08:43:55  5 of 5 START sql table model main.shopping_combined ............................ [RUN]\n",
      "\u001b[0m08:43:55  5 of 5 OK created sql table model main.shopping_combined ....................... [\u001b[32mOK\u001b[0m in 0.18s]\n",
      "\u001b[0m08:43:55  \n",
      "\u001b[0m08:43:55  Finished running 5 table models in 0 hours 0 minutes and 0.95 seconds (0.95s).\n",
      "\u001b[0m08:43:55  \n",
      "\u001b[0m08:43:55  \u001b[32mCompleted successfully\u001b[0m\n",
      "\u001b[0m08:43:55  \n",
      "\u001b[0m08:43:55  Done. PASS=5 WARN=0 ERROR=0 SKIP=0 TOTAL=5\n"
     ]
    },
    {
     "data": {
      "text/html": [
       "<div>\n",
       "<style scoped>\n",
       "    .dataframe tbody tr th:only-of-type {\n",
       "        vertical-align: middle;\n",
       "    }\n",
       "\n",
       "    .dataframe tbody tr th {\n",
       "        vertical-align: top;\n",
       "    }\n",
       "\n",
       "    .dataframe thead th {\n",
       "        text-align: right;\n",
       "    }\n",
       "</style>\n",
       "<table border=\"1\" class=\"dataframe\">\n",
       "  <thead>\n",
       "    <tr style=\"text-align: right;\">\n",
       "      <th></th>\n",
       "      <th>name</th>\n",
       "    </tr>\n",
       "  </thead>\n",
       "  <tbody>\n",
       "    <tr>\n",
       "      <th>0</th>\n",
       "      <td>customer_review_table</td>\n",
       "    </tr>\n",
       "    <tr>\n",
       "      <th>1</th>\n",
       "      <td>customer_table</td>\n",
       "    </tr>\n",
       "    <tr>\n",
       "      <th>2</th>\n",
       "      <td>customers</td>\n",
       "    </tr>\n",
       "    <tr>\n",
       "      <th>3</th>\n",
       "      <td>purchase_customer_mapping</td>\n",
       "    </tr>\n",
       "    <tr>\n",
       "      <th>4</th>\n",
       "      <td>purchase_customer_mapping_table</td>\n",
       "    </tr>\n",
       "    <tr>\n",
       "      <th>5</th>\n",
       "      <td>purchase_table</td>\n",
       "    </tr>\n",
       "    <tr>\n",
       "      <th>6</th>\n",
       "      <td>purchases</td>\n",
       "    </tr>\n",
       "    <tr>\n",
       "      <th>7</th>\n",
       "      <td>reviews</td>\n",
       "    </tr>\n",
       "    <tr>\n",
       "      <th>8</th>\n",
       "      <td>shopping_combined</td>\n",
       "    </tr>\n",
       "  </tbody>\n",
       "</table>\n",
       "</div>"
      ],
      "text/plain": [
       "                              name\n",
       "0            customer_review_table\n",
       "1                   customer_table\n",
       "2                        customers\n",
       "3        purchase_customer_mapping\n",
       "4  purchase_customer_mapping_table\n",
       "5                   purchase_table\n",
       "6                        purchases\n",
       "7                          reviews\n",
       "8                shopping_combined"
      ]
     },
     "metadata": {},
     "output_type": "display_data"
    }
   ],
   "source": [
    "import duckdb\n",
    "\n",
    "table_names = ['purchase_table', 'customer_table', 'customer_review_table', 'purchase_customer_mapping_table']\n",
    "with duckdb.connect('../data/shopping.db') as con:\n",
    "    for name in table_names:\n",
    "        con.sql(f\"CREATE OR REPLACE TABLE {name} AS SELECT * FROM read_csv_auto('../data/{name}.csv', normalize_names=True)\")\n",
    "\n",
    "! cd ../dbt_shopping; dbt run\n",
    "\n",
    "with duckdb.connect('../data/shopping.db') as con:\n",
    "    display(con.sql('show tables').df())"
   ]
  },
  {
   "cell_type": "code",
   "execution_count": null,
   "metadata": {},
   "outputs": [],
   "source": []
  }
 ],
 "metadata": {
  "kernelspec": {
   "display_name": "Python 3",
   "language": "python",
   "name": "python3"
  },
  "language_info": {
   "codemirror_mode": {
    "name": "ipython",
    "version": 3
   },
   "file_extension": ".py",
   "mimetype": "text/x-python",
   "name": "python",
   "nbconvert_exporter": "python",
   "pygments_lexer": "ipython3",
   "version": "3.10.8"
  },
  "orig_nbformat": 4
 },
 "nbformat": 4,
 "nbformat_minor": 2
}
