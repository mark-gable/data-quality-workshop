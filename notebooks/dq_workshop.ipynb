{
 "cells": [
  {
   "cell_type": "markdown",
   "metadata": {},
   "source": [
    "# Hands On Data Quality Workshop"
   ]
  },
  {
   "cell_type": "markdown",
   "metadata": {},
   "source": [
    "# Import Packages"
   ]
  },
  {
   "cell_type": "code",
   "execution_count": null,
   "metadata": {},
   "outputs": [],
   "source": [
    "import duckdb"
   ]
  },
  {
   "cell_type": "markdown",
   "metadata": {},
   "source": [
    "# Context:\n",
    "- You work for an e-commerce company and have been tasked with doing a needs assessment of your org’s data quality.\n",
    "- Specifically, your company is about to make a huge investment into targeted marketing to upsell users.\n",
    "- They need to understand if it’s feasible today… and if not, what needs to be done so that it is.\n",
    "\n",
    "### NOTE: Assume for this workshop that \"today's\" date is `2023-12-31` (December 31st, 2023).\n",
    "\n",
    "# Our Data:\n",
    "<img src='../assets/shopping_data_lineage.png'>"
   ]
  },
  {
   "cell_type": "markdown",
   "metadata": {},
   "source": [
    "# Our Database\n",
    "We are using DuckDB, which is a lightweight analytical database that can run in the browser. It has a useful Python API that this workshop utilizes. Don't worry if you are not comfortable with Python, as you only need to update the `sql_query` string similar with your SQL code and run the Jupyter notebook cell.\n",
    "\n",
    "**Example Code:**\n",
    "\n",
    "```python\n",
    "sql_query = '''\n",
    "show tables\n",
    "'''\n",
    "\n",
    "with duckdb.connect('../data/shopping.db') as con:\n",
    "    display(con.sql(sql_query).df())\n",
    "\n",
    "# output\n",
    "# +---------------------------------+\n",
    "# | name                            |\n",
    "# +---------------------------------+\n",
    "# | customer_review_table           |\n",
    "# | customer_table                  |\n",
    "# | customers                       |\n",
    "# | purchase_customer_mapping       |\n",
    "# | purchase_customer_mapping_table |\n",
    "# | purchase_table                  |\n",
    "# | purchases                       |\n",
    "# | reviews                         |\n",
    "# | shopping_combined               |\n",
    "# | upsell_customer_ranking         |\n",
    "# +---------------------------------+\n",
    "```"
   ]
  },
  {
   "cell_type": "markdown",
   "metadata": {},
   "source": [
    "## 1. Understand your business use case.\n",
    "\"Specifically, your company is about to make a huge investment into targeted marketing to upsell users.\"\n",
    "\n",
    "> Hint: Look at the `dbt_shopping/models` folder to review the underlying SQL queries of the database.\n",
    "\n",
    "### What questions would you ask your stakeholders?\n",
    "- question a...\n",
    "- question b...\n",
    "- question c..."
   ]
  },
  {
   "cell_type": "code",
   "execution_count": null,
   "metadata": {},
   "outputs": [],
   "source": [
    "sql_query = '''\n",
    "show tables\n",
    "'''\n",
    "\n",
    "with duckdb.connect('../data/shopping.db') as con:\n",
    "    display(con.sql(sql_query).df())"
   ]
  },
  {
   "cell_type": "markdown",
   "metadata": {},
   "source": [
    "## 2. Understand how your data fits within this use case.\n",
    "\n",
    "### Please briefly describe how you the organization can leverage the available data for targeted marketing to upsell.\n",
    "\n",
    "> Hint: Look at the `dbt_shopping/models` folder to review the underlying SQL queries of the database.\n",
    "\n",
    "Response..."
   ]
  },
  {
   "cell_type": "code",
   "execution_count": null,
   "metadata": {},
   "outputs": [],
   "source": [
    "sql_query = '''\n",
    "show tables\n",
    "'''\n",
    "\n",
    "with duckdb.connect('../data/shopping.db') as con:\n",
    "    display(con.sql(sql_query).df())"
   ]
  },
  {
   "cell_type": "markdown",
   "metadata": {},
   "source": [
    "## 3. Understand what level of data quality you need to successfully use data for this use case.\n",
    "\n",
    "### What to consider for our data quality:\n",
    "- **Is the data up-to-date?**\n",
    "- **Is the data complete?**\n",
    "- **Are fields within expected ranges?**\n",
    "- **Is the null rate higher or lower than it should be?**"
   ]
  },
  {
   "cell_type": "markdown",
   "metadata": {},
   "source": [
    "**Is the data up-to-date?**\n",
    "- Results..."
   ]
  },
  {
   "cell_type": "code",
   "execution_count": null,
   "metadata": {},
   "outputs": [],
   "source": [
    "sql_query = '''\n",
    "show tables\n",
    "'''\n",
    "\n",
    "with duckdb.connect('../data/shopping.db') as con:\n",
    "    display(con.sql(sql_query).df())"
   ]
  },
  {
   "cell_type": "markdown",
   "metadata": {},
   "source": [
    "**Is the data complete?**\n",
    "- Results..."
   ]
  },
  {
   "cell_type": "code",
   "execution_count": null,
   "metadata": {},
   "outputs": [],
   "source": [
    "sql_query = '''\n",
    "show tables\n",
    "'''\n",
    "\n",
    "with duckdb.connect('../data/shopping.db') as con:\n",
    "    display(con.sql(sql_query).df())"
   ]
  },
  {
   "cell_type": "markdown",
   "metadata": {},
   "source": [
    "**Are fields within expected ranges?**\n",
    "> Don't forget that \"today's\" date is `2023-12-31` (December 31st, 2023).\n",
    "- Results...\n"
   ]
  },
  {
   "cell_type": "code",
   "execution_count": null,
   "metadata": {},
   "outputs": [],
   "source": [
    "sql_query = '''\n",
    "show tables\n",
    "'''\n",
    "\n",
    "with duckdb.connect('../data/shopping.db') as con:\n",
    "    display(con.sql(sql_query).df())"
   ]
  },
  {
   "cell_type": "markdown",
   "metadata": {},
   "source": [
    "**Is the null rate higher or lower than it should be?**\n",
    "- Results..."
   ]
  },
  {
   "cell_type": "code",
   "execution_count": null,
   "metadata": {},
   "outputs": [],
   "source": [
    "sql_query = '''\n",
    "show tables\n",
    "'''\n",
    "\n",
    "with duckdb.connect('../data/shopping.db') as con:\n",
    "    display(con.sql(sql_query).df())"
   ]
  },
  {
   "cell_type": "markdown",
   "metadata": {},
   "source": [
    "## 4. Provide value with this data to validate your assumptions made above.\n",
    "\n",
    "### Who would be the top 10 customers you would want to test this ranking heuristic on?\n",
    "Please answer this with output from your SQL query below."
   ]
  },
  {
   "cell_type": "code",
   "execution_count": null,
   "metadata": {},
   "outputs": [],
   "source": [
    "sql_query = '''\n",
    "show tables\n",
    "'''\n",
    "\n",
    "with duckdb.connect('../data/shopping.db') as con:\n",
    "    display(con.sql(sql_query).df())"
   ]
  },
  {
   "cell_type": "markdown",
   "metadata": {},
   "source": [
    "## 5. Enable data quality alerts and constraints on your data to ensure you continually provide value.\n",
    "\n",
    "We will now hand it off to Chad for his lecture on ***Data Contracts: Data Quality for AI*** which will cover this topic in depth."
   ]
  },
  {
   "cell_type": "markdown",
   "metadata": {},
   "source": [
    "# End of Workshop"
   ]
  }
 ],
 "metadata": {
  "kernelspec": {
   "display_name": "Python 3",
   "language": "python",
   "name": "python3"
  },
  "language_info": {
   "codemirror_mode": {
    "name": "ipython",
    "version": 3
   },
   "file_extension": ".py",
   "mimetype": "text/x-python",
   "name": "python",
   "nbconvert_exporter": "python",
   "pygments_lexer": "ipython3",
   "version": "3.11.4"
  },
  "orig_nbformat": 4
 },
 "nbformat": 4,
 "nbformat_minor": 2
}
